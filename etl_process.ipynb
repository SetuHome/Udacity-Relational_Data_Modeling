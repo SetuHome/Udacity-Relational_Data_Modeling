{
 "cells": [
  {
   "cell_type": "code",
   "execution_count": 209,
   "source": [
    "import os\n",
    "import glob\n",
    "import sys\n",
    "import json\n",
    "import psycopg2\n",
    "from sql_queries import *\n",
    "import pandas as pd\n",
    "from array import *"
   ],
   "outputs": [],
   "metadata": {}
  },
  {
   "cell_type": "code",
   "execution_count": 210,
   "source": [
    "filepath = '/Users/s0k01c6/Documents/MyGitRepos/Udacity-Relational_Data_Modeling/data/song_data/A/A/A'"
   ],
   "outputs": [],
   "metadata": {}
  },
  {
   "cell_type": "code",
   "execution_count": 230,
   "source": [
    "conn = psycopg2.connect(\"host=localhost,dbname=sparkifydb,user=s0k01c6,password=SetuHome\")\n",
    "cuur = conn.cursor()\n",
    "conn.set_session(autocommit = True)"
   ],
   "outputs": [],
   "metadata": {}
  },
  {
   "cell_type": "code",
   "execution_count": 247,
   "source": [
    "cuur.execute(\"DROP TABLE IF EXISTS songs\")"
   ],
   "outputs": [],
   "metadata": {}
  },
  {
   "cell_type": "code",
   "execution_count": 248,
   "source": [
    "cuur.execute(\"CREATE TABLE IF NOT EXISTS songs(song_id varchar,\\\n",
    "                                                   title varchar,\\\n",
    "                                                   artist_id varchar,\\\n",
    "                                                    year int,\\\n",
    "                                                    duration decimal)\")"
   ],
   "outputs": [],
   "metadata": {}
  },
  {
   "cell_type": "code",
   "execution_count": 233,
   "source": [
    "conn.commit()"
   ],
   "outputs": [],
   "metadata": {}
  },
  {
   "cell_type": "code",
   "execution_count": 234,
   "source": [
    "def getfilespath(filepath):\n",
    "    print(filepath)\n",
    "    all_files = []\n",
    "    for root, dirs, files in os.walk(filepath):\n",
    "        files = glob.glob(os.path.join(root,'*.json'))\n",
    "        for f in files:\n",
    "            all_files.append(os.path.abspath(f))\n",
    "    print(type(all_files))\n",
    "    print(len(all_files))\n",
    "    return all_files\n"
   ],
   "outputs": [],
   "metadata": {}
  },
  {
   "cell_type": "code",
   "execution_count": 235,
   "source": [
    "song_files = getfilespath(filepath)"
   ],
   "outputs": [
    {
     "output_type": "stream",
     "name": "stdout",
     "text": [
      "/Users/s0k01c6/Documents/MyGitRepos/Udacity-Relational_Data_Modeling/data/song_data/A/A/A\n",
      "<class 'list'>\n",
      "11\n"
     ]
    }
   ],
   "metadata": {}
  },
  {
   "cell_type": "code",
   "execution_count": 236,
   "source": [
    "print(type(song_files))\n",
    "print(song_files)\n",
    "\n"
   ],
   "outputs": [
    {
     "output_type": "stream",
     "name": "stdout",
     "text": [
      "<class 'list'>\n",
      "['/Users/s0k01c6/Documents/MyGitRepos/Udacity-Relational_Data_Modeling/data/song_data/A/A/A/TRAAAEF128F4273421.json', '/Users/s0k01c6/Documents/MyGitRepos/Udacity-Relational_Data_Modeling/data/song_data/A/A/A/TRAAARJ128F9320760.json', '/Users/s0k01c6/Documents/MyGitRepos/Udacity-Relational_Data_Modeling/data/song_data/A/A/A/TRAAAFD128F92F423A.json', '/Users/s0k01c6/Documents/MyGitRepos/Udacity-Relational_Data_Modeling/data/song_data/A/A/A/TRAAAPK128E0786D96.json', '/Users/s0k01c6/Documents/MyGitRepos/Udacity-Relational_Data_Modeling/data/song_data/A/A/A/TRAAAVO128F93133D4.json', '/Users/s0k01c6/Documents/MyGitRepos/Udacity-Relational_Data_Modeling/data/song_data/A/A/A/TRAAABD128F429CF47.json', '/Users/s0k01c6/Documents/MyGitRepos/Udacity-Relational_Data_Modeling/data/song_data/A/A/A/TRAAAAW128F429D538.json', '/Users/s0k01c6/Documents/MyGitRepos/Udacity-Relational_Data_Modeling/data/song_data/A/A/A/TRAAADZ128F9348C2E.json', '/Users/s0k01c6/Documents/MyGitRepos/Udacity-Relational_Data_Modeling/data/song_data/A/A/A/TRAAAVG12903CFA543.json', '/Users/s0k01c6/Documents/MyGitRepos/Udacity-Relational_Data_Modeling/data/song_data/A/A/A/TRAAAMO128F1481E7F.json', '/Users/s0k01c6/Documents/MyGitRepos/Udacity-Relational_Data_Modeling/data/song_data/A/A/A/TRAAAMQ128F1460CD3.json']\n"
     ]
    }
   ],
   "metadata": {}
  },
  {
   "cell_type": "code",
   "execution_count": 246,
   "source": [
    "file = song_files[0]\n",
    "print(file)\n",
    "df = pd.read_json(file, typ='series')\n",
    "print(df)\n",
    "\n",
    "\n"
   ],
   "outputs": [
    {
     "output_type": "stream",
     "name": "stdout",
     "text": [
      "/Users/s0k01c6/Documents/MyGitRepos/Udacity-Relational_Data_Modeling/data/song_data/A/A/A/TRAAAEF128F4273421.json\n",
      "num_songs                            1\n",
      "artist_id           AR7G5I41187FB4CE6C\n",
      "artist_latitude                   None\n",
      "artist_longitude                  None\n",
      "artist_location        London, England\n",
      "artist_name                   Adam Ant\n",
      "song_id             SONHOTT12A8C13493C\n",
      "title                  Something Girls\n",
      "duration                     233.40363\n",
      "year                              1982\n",
      "dtype: object\n"
     ]
    }
   ],
   "metadata": {}
  },
  {
   "cell_type": "code",
   "execution_count": 238,
   "source": [
    "file = open(file)\n",
    "filedata = json.load(file)\n",
    "print(type(filedata))\n"
   ],
   "outputs": [
    {
     "output_type": "stream",
     "name": "stdout",
     "text": [
      "<class 'dict'>\n"
     ]
    }
   ],
   "metadata": {}
  },
  {
   "cell_type": "code",
   "execution_count": 249,
   "source": [
    "filedata2=filedata['song_id'],filedata['title'],filedata['artist_id'],filedata['year'],filedata['duration']\n",
    "\n"
   ],
   "outputs": [],
   "metadata": {}
  },
  {
   "cell_type": "code",
   "execution_count": 240,
   "source": [
    "filelist = list(filedata2)"
   ],
   "outputs": [],
   "metadata": {}
  },
  {
   "cell_type": "code",
   "execution_count": 221,
   "source": [
    "filelist[4]"
   ],
   "outputs": [
    {
     "output_type": "execute_result",
     "data": {
      "text/plain": [
       "233.40363"
      ]
     },
     "metadata": {},
     "execution_count": 221
    }
   ],
   "metadata": {}
  },
  {
   "cell_type": "code",
   "execution_count": 250,
   "source": [
    "song_insert_data = (\"INSERT INTO songs(song_id,title,artist_id,year,duration) \\\n",
    "                        values(%s,%s,%s,%s,%s)\")"
   ],
   "outputs": [],
   "metadata": {}
  },
  {
   "cell_type": "code",
   "execution_count": 251,
   "source": [
    "cuur.execute(song_insert_data,filelist)"
   ],
   "outputs": [],
   "metadata": {}
  },
  {
   "cell_type": "code",
   "execution_count": 252,
   "source": [
    "cuur.execute(\"Select * from songs\")\n",
    "row = cuur.fetchone()\n",
    "print(row)"
   ],
   "outputs": [
    {
     "output_type": "stream",
     "name": "stdout",
     "text": [
      "('SONHOTT12A8C13493C', 'Something Girls', 'AR7G5I41187FB4CE6C', 1982, Decimal('233.40363'))\n"
     ]
    }
   ],
   "metadata": {}
  }
 ],
 "metadata": {
  "orig_nbformat": 4,
  "language_info": {
   "name": "python",
   "version": "3.9.7",
   "mimetype": "text/x-python",
   "codemirror_mode": {
    "name": "ipython",
    "version": 3
   },
   "pygments_lexer": "ipython3",
   "nbconvert_exporter": "python",
   "file_extension": ".py"
  },
  "kernelspec": {
   "name": "python3",
   "display_name": "Python 3.9.7 64-bit"
  },
  "interpreter": {
   "hash": "aee8b7b246df8f9039afb4144a1f6fd8d2ca17a180786b69acc140d282b71a49"
  }
 },
 "nbformat": 4,
 "nbformat_minor": 2
}