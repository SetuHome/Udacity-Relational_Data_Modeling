{
 "cells": [
  {
   "cell_type": "markdown",
   "source": [
    "This program is to create the sql tables required for this project and load the data in these tables. \n",
    "In the steps below, we are connecting with postgreSQL database and setting the autocommit as True"
   ],
   "metadata": {}
  },
  {
   "cell_type": "code",
   "execution_count": 1,
   "source": [
    "import psycopg2"
   ],
   "outputs": [],
   "metadata": {}
  },
  {
   "cell_type": "code",
   "execution_count": 2,
   "source": [
    "try:\n",
    "    conn = psycopg2.connect(\"host=localhost dbname=s0k01c6 user=s0k01c6 password=SetuHome\")\n",
    "except psycopg2.Error as e:\n",
    "    print(\"Error: Could not create the connection\")\n",
    "    print(e)\n"
   ],
   "outputs": [],
   "metadata": {}
  },
  {
   "cell_type": "code",
   "execution_count": 3,
   "source": [
    "conn.set_session(autocommit=True)"
   ],
   "outputs": [],
   "metadata": {}
  },
  {
   "cell_type": "markdown",
   "source": [
    "# Creating Dimension Tables and loading the data"
   ],
   "metadata": {}
  },
  {
   "cell_type": "code",
   "execution_count": 38,
   "source": [
    "try:\n",
    "    curr = conn.cursor()\n",
    "except psycopg2.Error as e:\n",
    "    print(\"Error: Could not create the cursor\")\n",
    "    print(e)"
   ],
   "outputs": [],
   "metadata": {}
  },
  {
   "cell_type": "code",
   "execution_count": 43,
   "source": [
    "drop_query = (\"\"\" DROP TABLE IF EXISTS users \"\"\")"
   ],
   "outputs": [],
   "metadata": {}
  },
  {
   "cell_type": "code",
   "execution_count": 44,
   "source": [
    "curr.execute(drop_query)"
   ],
   "outputs": [],
   "metadata": {}
  },
  {
   "cell_type": "markdown",
   "source": [
    "# Dropping table if it exists"
   ],
   "metadata": {}
  },
  {
   "cell_type": "code",
   "execution_count": 31,
   "source": [
    "try:\n",
    "    print(\"Dropping table if exists\")\n",
    "    curr.execute(\"DROP TABLE IF EXISTS users\")\n",
    "    curr.execute(\"DROP TABLE IF EXISTS songs\")\n",
    "    curr.execute(\"DROP TABLE IF EXISTS artists\")\n",
    "    curr.execute(\"DROP TABLE IF EXISTS time\")\n",
    "    curr.execute(\"DROP TABLE IF EXISTS songplays\")\n",
    "except psycopg2.Error as e:\n",
    "    print(\"Error: Could not create the cursor\")\n",
    "    print(e)\n"
   ],
   "outputs": [
    {
     "output_type": "stream",
     "name": "stdout",
     "text": [
      "Dropping table if exists\n"
     ]
    }
   ],
   "metadata": {}
  },
  {
   "cell_type": "code",
   "execution_count": 6,
   "source": [
    "try:\n",
    "    print(\"Creating users table\")\n",
    "    curr.execute(\"CREATE TABLE IF NOT EXISTS users(userid int,\\\n",
    "                                                   first_name varchar,\\\n",
    "                                                   last_name varchar,\\\n",
    "                                                    gender varchar,\\\n",
    "                                                    level int);\")\n",
    "\n",
    "except psycopg2.Error as e:\n",
    "    print(\"Error: Could not create the cursor\")\n",
    "    print(e)                "
   ],
   "outputs": [
    {
     "output_type": "stream",
     "name": "stdout",
     "text": [
      "Creating users table\n"
     ]
    }
   ],
   "metadata": {}
  },
  {
   "cell_type": "code",
   "execution_count": 7,
   "source": [
    "try:\n",
    "    print(\"Creating songs table\")\n",
    "    curr.execute(\"CREATE TABLE IF NOT EXISTS songs(song_id int,\\\n",
    "                                                   title varchar,\\\n",
    "                                                   artist_id int,\\\n",
    "                                                    year int,\\\n",
    "                                                    duration time);\")\n",
    "\n",
    "except psycopg2.Error as e:\n",
    "    print(\"Error: Could not create the cursor\")\n",
    "    print(e)"
   ],
   "outputs": [
    {
     "output_type": "stream",
     "name": "stdout",
     "text": [
      "Creating songs table\n"
     ]
    }
   ],
   "metadata": {}
  },
  {
   "cell_type": "code",
   "execution_count": 8,
   "source": [
    "try:\n",
    "    print(\"Creating artists table \")\n",
    "    curr.execute(\"CREATE TABLE IF NOT EXISTS artists(artist_id int,\\\n",
    "                                                     name varchar,\\\n",
    "                                                     location varchar,\\\n",
    "                                                     latitude decimal,\\\n",
    "                                                     longitude decimal);\")\n",
    "except psycopg2.Error as e:\n",
    "    print(\"Error: Could not create the cursor\")\n",
    "    print(e)"
   ],
   "outputs": [
    {
     "output_type": "stream",
     "name": "stdout",
     "text": [
      "Creating artists table \n"
     ]
    }
   ],
   "metadata": {}
  },
  {
   "cell_type": "code",
   "execution_count": 9,
   "source": [
    "try:\n",
    "    print(\"Creating time table \")\n",
    "    curr.execute(\"CREATE TABLE IF NOT EXISTS time(start_time time,\\\n",
    "                                                     hour decimal,\\\n",
    "                                                     day int,\\\n",
    "                                                     week int,\\\n",
    "                                                     month int,\\\n",
    "                                                     year int,\\\n",
    "                                                     weekday int);\")\n",
    "except psycopg2.Error as e:\n",
    "    print(\"Error: Could not create the cursor\")\n",
    "    print(e)"
   ],
   "outputs": [
    {
     "output_type": "stream",
     "name": "stdout",
     "text": [
      "Creating time table \n"
     ]
    }
   ],
   "metadata": {}
  },
  {
   "cell_type": "markdown",
   "source": [
    "# Checking the data in the Dimension tables created above "
   ],
   "metadata": {}
  },
  {
   "cell_type": "code",
   "execution_count": 10,
   "source": [
    "try:\n",
    "    print(\"printing the number of records in these tables\")\n",
    "    curr.execute(\"Select count(*) from time\")\n",
    "    time = curr.fetchone()\n",
    "    print(time)\n",
    "    curr.execute(\"Select count(*) from artists\")\n",
    "    artists = curr.fetchone()\n",
    "    print(artists)\n",
    "    curr.execute(\"Select count(*) from songs\")\n",
    "    songs = curr.fetchone()\n",
    "    print(songs)\n",
    "    curr.execute(\"Select count(*) from users\")\n",
    "    users = curr.fetchone()\n",
    "    print(users)\n",
    "\n",
    "except psycopg2.Error as e:\n",
    "    print(\"Error: Could not create the cursor\")\n",
    "    print(e)"
   ],
   "outputs": [
    {
     "output_type": "stream",
     "name": "stdout",
     "text": [
      "printing the number of records in these tables\n",
      "(0,)\n",
      "(0,)\n",
      "(0,)\n",
      "(0,)\n"
     ]
    }
   ],
   "metadata": {}
  },
  {
   "cell_type": "markdown",
   "source": [
    "Creating the fact table now"
   ],
   "metadata": {}
  },
  {
   "cell_type": "code",
   "execution_count": 11,
   "source": [
    "try:\n",
    "    print(\"Creating the fact table 'songplays' \")\n",
    "    curr.execute(\"CREATE TABLE IF NOT EXISTS songplays(songplay_id int,\\\n",
    "                                                     start_time timestamp,\\\n",
    "                                                     user_id int,\\\n",
    "                                                     level int,\\\n",
    "                                                     song_id int,\\\n",
    "                                                     artist_id int,\\\n",
    "                                                     session_id int,\\\n",
    "                                                     location varchar,\\\n",
    "                                                     user_agent varchar);\")\n",
    "except psycopg2.Error as e:\n",
    "    print(\"Error: Could not create the cursor\")\n",
    "    print(e)"
   ],
   "outputs": [
    {
     "output_type": "stream",
     "name": "stdout",
     "text": [
      "Creating the fact table 'songplays' \n"
     ]
    }
   ],
   "metadata": {}
  },
  {
   "cell_type": "markdown",
   "source": [
    "# Below code checks the number of rows in the fact table"
   ],
   "metadata": {}
  },
  {
   "cell_type": "code",
   "execution_count": 12,
   "source": [
    "try:\n",
    "    print(\"printing the number of records in these tables\")\n",
    "    curr.execute(\"Select count(*) from songplays\")\n",
    "    time = curr.fetchone()\n",
    "    print(time)\n",
    "    \n",
    "\n",
    "except psycopg2.Error as e:\n",
    "    print(\"Error: Could not create the cursor\")\n",
    "    print(e)"
   ],
   "outputs": [
    {
     "output_type": "stream",
     "name": "stdout",
     "text": [
      "printing the number of records in these tables\n",
      "(0,)\n"
     ]
    }
   ],
   "metadata": {}
  }
 ],
 "metadata": {
  "orig_nbformat": 4,
  "language_info": {
   "name": "python",
   "version": "3.9.7",
   "mimetype": "text/x-python",
   "codemirror_mode": {
    "name": "ipython",
    "version": 3
   },
   "pygments_lexer": "ipython3",
   "nbconvert_exporter": "python",
   "file_extension": ".py"
  },
  "kernelspec": {
   "name": "python3",
   "display_name": "Python 3.9.7 64-bit"
  },
  "interpreter": {
   "hash": "aee8b7b246df8f9039afb4144a1f6fd8d2ca17a180786b69acc140d282b71a49"
  }
 },
 "nbformat": 4,
 "nbformat_minor": 2
}