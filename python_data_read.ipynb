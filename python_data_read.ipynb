{
 "cells": [
  {
   "cell_type": "code",
   "execution_count": 1,
   "source": [
    "import pandas as pd\n",
    "import json as js"
   ],
   "outputs": [],
   "metadata": {}
  },
  {
   "cell_type": "code",
   "execution_count": 9,
   "source": [
    "df = pd.read_json('/Users/s0k01c6/Documents/MyGitRepos/Udacity-Relational_Data_Modeling/data/song_data/A/A/A/TRAAAAW128F429D538.json',lines=True)\n",
    "print(df)\n",
    "print(type(df))\n",
    "\n",
    "df.head\n",
    "df[[\"artist_id\"]]"
   ],
   "outputs": [
    {
     "output_type": "stream",
     "name": "stdout",
     "text": [
      "   num_songs           artist_id  artist_latitude  artist_longitude  \\\n",
      "0          1  ARD7TVE1187B99BFB1              NaN               NaN   \n",
      "\n",
      "   artist_location artist_name             song_id             title  \\\n",
      "0  California - LA      Casual  SOMZWCG12A8C13C480  I Didn't Mean To   \n",
      "\n",
      "    duration  year  \n",
      "0  218.93179     0  \n",
      "<class 'pandas.core.frame.DataFrame'>\n"
     ]
    },
    {
     "output_type": "execute_result",
     "data": {
      "text/html": [
       "<div>\n",
       "<style scoped>\n",
       "    .dataframe tbody tr th:only-of-type {\n",
       "        vertical-align: middle;\n",
       "    }\n",
       "\n",
       "    .dataframe tbody tr th {\n",
       "        vertical-align: top;\n",
       "    }\n",
       "\n",
       "    .dataframe thead th {\n",
       "        text-align: right;\n",
       "    }\n",
       "</style>\n",
       "<table border=\"1\" class=\"dataframe\">\n",
       "  <thead>\n",
       "    <tr style=\"text-align: right;\">\n",
       "      <th></th>\n",
       "      <th>artist_id</th>\n",
       "    </tr>\n",
       "  </thead>\n",
       "  <tbody>\n",
       "    <tr>\n",
       "      <th>0</th>\n",
       "      <td>ARD7TVE1187B99BFB1</td>\n",
       "    </tr>\n",
       "  </tbody>\n",
       "</table>\n",
       "</div>"
      ],
      "text/plain": [
       "            artist_id\n",
       "0  ARD7TVE1187B99BFB1"
      ]
     },
     "metadata": {},
     "execution_count": 9
    }
   ],
   "metadata": {}
  },
  {
   "cell_type": "code",
   "execution_count": 14,
   "source": [
    "df = pd.read_json('/Users/s0k01c6/Documents/MyGitRepos/Udacity-Relational_Data_Modeling/data/song_data/A/A/A/TRAAAEF128F4273421.json',lines=True)\n",
    "print(df.head(1))"
   ],
   "outputs": [
    {
     "output_type": "stream",
     "name": "stdout",
     "text": [
      "   num_songs           artist_id  artist_latitude  artist_longitude  \\\n",
      "0          1  AR7G5I41187FB4CE6C              NaN               NaN   \n",
      "\n",
      "   artist_location artist_name             song_id            title  \\\n",
      "0  London, England    Adam Ant  SONHOTT12A8C13493C  Something Girls   \n",
      "\n",
      "    duration  year  \n",
      "0  233.40363  1982  \n"
     ]
    }
   ],
   "metadata": {}
  }
 ],
 "metadata": {
  "orig_nbformat": 4,
  "language_info": {
   "name": "python",
   "version": "3.9.7",
   "mimetype": "text/x-python",
   "codemirror_mode": {
    "name": "ipython",
    "version": 3
   },
   "pygments_lexer": "ipython3",
   "nbconvert_exporter": "python",
   "file_extension": ".py"
  },
  "kernelspec": {
   "name": "python3",
   "display_name": "Python 3.9.7 64-bit"
  },
  "interpreter": {
   "hash": "aee8b7b246df8f9039afb4144a1f6fd8d2ca17a180786b69acc140d282b71a49"
  }
 },
 "nbformat": 4,
 "nbformat_minor": 2
}